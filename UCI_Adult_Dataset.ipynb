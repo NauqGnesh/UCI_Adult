{
  "nbformat": 4,
  "nbformat_minor": 0,
  "metadata": {
    "colab": {
      "name": "UCI Adult Dataset",
      "provenance": []
    },
    "kernelspec": {
      "name": "python3",
      "display_name": "Python 3"
    },
    "accelerator": "TPU"
  },
  "cells": [
    {
      "cell_type": "code",
      "metadata": {
        "id": "BGq5lQ-bZ_Ll",
        "colab_type": "code",
        "colab": {
          "base_uri": "https://localhost:8080/",
          "height": 530
        },
        "outputId": "c9396cf5-ba09-48f6-9813-9d82fd3eaba3"
      },
      "source": [
        "!pip install pydotplus\n",
        "!pip install wandb --upgrade\n",
        "!wandb login 781f7c7b2dfd11fb00abd252a1ea8eaba7e2a17d\n",
        "%matplotlib inline\n",
        "from matplotlib import pyplot as plt\n",
        "plt.rcParams['figure.figsize'] = (10, 8)\n",
        "import seaborn as sns\n",
        "import numpy as np\n",
        "import pandas as pd\n",
        "from sklearn.preprocessing import LabelEncoder\n",
        "import collections\n",
        "from sklearn.model_selection import GridSearchCV\n",
        "from sklearn import preprocessing\n",
        "from sklearn.tree import DecisionTreeClassifier, export_graphviz\n",
        "from sklearn.ensemble import RandomForestClassifier\n",
        "from sklearn.metrics import accuracy_score\n",
        "from ipywidgets import Image\n",
        "from io import StringIO\n",
        "import pydotplus \n",
        "import math\n",
        "from sklearn import tree\n",
        "from sklearn.preprocessing import StandardScaler\n",
        "from sklearn.neighbors import KNeighborsClassifier\n",
        "from sklearn import tree\n",
        "from tensorflow.keras.models import Sequential\n",
        "from tensorflow.keras.layers import Dense, Flatten, Dropout\n",
        "from keras.utils import np_utils\n",
        "import wandb\n",
        "from wandb.keras import WandbCallback\n",
        "import os\n",
        "from datetime import datetime\n",
        "import pytz\n",
        "import matplotlib.pyplot as plt\n",
        "from sklearn.metrics import confusion_matrix\n",
        "from mlxtend.plotting import plot_confusion_matrix\n",
        "\n",
        "pacific_timezone = pytz.timezone(\"US/Pacific\")\n",
        "utc_timezone = pytz.timezone(\"UTC\")\n"
      ],
      "execution_count": 45,
      "outputs": [
        {
          "output_type": "stream",
          "text": [
            "Requirement already satisfied: pydotplus in /usr/local/lib/python3.6/dist-packages (2.0.2)\n",
            "Requirement already satisfied: pyparsing>=2.0.1 in /usr/local/lib/python3.6/dist-packages (from pydotplus) (2.4.6)\n",
            "Requirement already up-to-date: wandb in /usr/local/lib/python3.6/dist-packages (0.8.31)\n",
            "Requirement already satisfied, skipping upgrade: GitPython>=1.0.0 in /usr/local/lib/python3.6/dist-packages (from wandb) (3.1.0)\n",
            "Requirement already satisfied, skipping upgrade: nvidia-ml-py3>=7.352.0 in /usr/local/lib/python3.6/dist-packages (from wandb) (7.352.0)\n",
            "Requirement already satisfied, skipping upgrade: shortuuid>=0.5.0 in /usr/local/lib/python3.6/dist-packages (from wandb) (1.0.1)\n",
            "Requirement already satisfied, skipping upgrade: watchdog>=0.8.3 in /usr/local/lib/python3.6/dist-packages (from wandb) (0.10.2)\n",
            "Requirement already satisfied, skipping upgrade: configparser>=3.8.1 in /usr/local/lib/python3.6/dist-packages (from wandb) (5.0.0)\n",
            "Requirement already satisfied, skipping upgrade: sentry-sdk>=0.4.0 in /usr/local/lib/python3.6/dist-packages (from wandb) (0.14.3)\n",
            "Requirement already satisfied, skipping upgrade: requests>=2.0.0 in /usr/local/lib/python3.6/dist-packages (from wandb) (2.21.0)\n",
            "Requirement already satisfied, skipping upgrade: six>=1.10.0 in /usr/local/lib/python3.6/dist-packages (from wandb) (1.12.0)\n",
            "Requirement already satisfied, skipping upgrade: psutil>=5.0.0 in /usr/local/lib/python3.6/dist-packages (from wandb) (5.4.8)\n",
            "Requirement already satisfied, skipping upgrade: gql==0.2.0 in /usr/local/lib/python3.6/dist-packages (from wandb) (0.2.0)\n",
            "Requirement already satisfied, skipping upgrade: Click>=7.0 in /usr/local/lib/python3.6/dist-packages (from wandb) (7.1.1)\n",
            "Requirement already satisfied, skipping upgrade: subprocess32>=3.5.3 in /usr/local/lib/python3.6/dist-packages (from wandb) (3.5.4)\n",
            "Requirement already satisfied, skipping upgrade: docker-pycreds>=0.4.0 in /usr/local/lib/python3.6/dist-packages (from wandb) (0.4.0)\n",
            "Requirement already satisfied, skipping upgrade: PyYAML>=3.10 in /usr/local/lib/python3.6/dist-packages (from wandb) (3.13)\n",
            "Requirement already satisfied, skipping upgrade: python-dateutil>=2.6.1 in /usr/local/lib/python3.6/dist-packages (from wandb) (2.8.1)\n",
            "Requirement already satisfied, skipping upgrade: gitdb<5,>=4.0.1 in /usr/local/lib/python3.6/dist-packages (from GitPython>=1.0.0->wandb) (4.0.2)\n",
            "Requirement already satisfied, skipping upgrade: pathtools>=0.1.1 in /usr/local/lib/python3.6/dist-packages (from watchdog>=0.8.3->wandb) (0.1.2)\n",
            "Requirement already satisfied, skipping upgrade: certifi in /usr/local/lib/python3.6/dist-packages (from sentry-sdk>=0.4.0->wandb) (2019.11.28)\n",
            "Requirement already satisfied, skipping upgrade: urllib3>=1.10.0 in /usr/local/lib/python3.6/dist-packages (from sentry-sdk>=0.4.0->wandb) (1.24.3)\n",
            "Requirement already satisfied, skipping upgrade: chardet<3.1.0,>=3.0.2 in /usr/local/lib/python3.6/dist-packages (from requests>=2.0.0->wandb) (3.0.4)\n",
            "Requirement already satisfied, skipping upgrade: idna<2.9,>=2.5 in /usr/local/lib/python3.6/dist-packages (from requests>=2.0.0->wandb) (2.8)\n",
            "Requirement already satisfied, skipping upgrade: promise<3,>=2.0 in /usr/local/lib/python3.6/dist-packages (from gql==0.2.0->wandb) (2.3)\n",
            "Requirement already satisfied, skipping upgrade: graphql-core<2,>=0.5.0 in /usr/local/lib/python3.6/dist-packages (from gql==0.2.0->wandb) (1.1)\n",
            "Requirement already satisfied, skipping upgrade: smmap<4,>=3.0.1 in /usr/local/lib/python3.6/dist-packages (from gitdb<5,>=4.0.1->GitPython>=1.0.0->wandb) (3.0.1)\n",
            "\u001b[34m\u001b[1mwandb\u001b[0m: Appending key for api.wandb.ai to your netrc file: /root/.netrc\n",
            "\u001b[32mSuccessfully logged in to Weights & Biases!\u001b[0m\n"
          ],
          "name": "stdout"
        }
      ]
    },
    {
      "cell_type": "code",
      "metadata": {
        "id": "ekgBDE40aXrd",
        "colab_type": "code",
        "colab": {}
      },
      "source": [
        "data_train = pd.read_csv('adult_train.csv', sep=';')\n",
        "data_test = pd.read_csv('adult_test.csv', sep=';')"
      ],
      "execution_count": 0,
      "outputs": []
    },
    {
      "cell_type": "code",
      "metadata": {
        "id": "fjzeeDkzajUY",
        "colab_type": "code",
        "colab": {}
      },
      "source": [
        "#Cleaning Data\n",
        "# Remove rows with incorrect labels in test dataset\n",
        "data_test = data_test[(data_test['Target'] == ' >50K.') | (data_test['Target']==' <=50K.')]\n",
        "\n",
        "# encode target variable as integer\n",
        "data_train.loc[data_train['Target']==' <=50K', 'Target'] = 0\n",
        "data_train.loc[data_train['Target']==' >50K', 'Target'] = 1\n",
        "\n",
        "data_test.loc[data_test['Target']==' <=50K.', 'Target'] = 0\n",
        "data_test.loc[data_test['Target']==' >50K.', 'Target'] = 1"
      ],
      "execution_count": 0,
      "outputs": []
    },
    {
      "cell_type": "code",
      "metadata": {
        "id": "4GDxA7zzbdUD",
        "colab_type": "code",
        "colab": {
          "base_uri": "https://localhost:8080/",
          "height": 484
        },
        "outputId": "5cc1956d-5999-4c5b-ab96-a91cdee78d56"
      },
      "source": [
        "#Data Wrangling\n",
        "data_test.describe(include='all').T"
      ],
      "execution_count": 6,
      "outputs": [
        {
          "output_type": "execute_result",
          "data": {
            "text/html": [
              "<div>\n",
              "<style scoped>\n",
              "    .dataframe tbody tr th:only-of-type {\n",
              "        vertical-align: middle;\n",
              "    }\n",
              "\n",
              "    .dataframe tbody tr th {\n",
              "        vertical-align: top;\n",
              "    }\n",
              "\n",
              "    .dataframe thead th {\n",
              "        text-align: right;\n",
              "    }\n",
              "</style>\n",
              "<table border=\"1\" class=\"dataframe\">\n",
              "  <thead>\n",
              "    <tr style=\"text-align: right;\">\n",
              "      <th></th>\n",
              "      <th>count</th>\n",
              "      <th>unique</th>\n",
              "      <th>top</th>\n",
              "      <th>freq</th>\n",
              "      <th>mean</th>\n",
              "      <th>std</th>\n",
              "      <th>min</th>\n",
              "      <th>25%</th>\n",
              "      <th>50%</th>\n",
              "      <th>75%</th>\n",
              "      <th>max</th>\n",
              "    </tr>\n",
              "  </thead>\n",
              "  <tbody>\n",
              "    <tr>\n",
              "      <th>Age</th>\n",
              "      <td>16281</td>\n",
              "      <td>73</td>\n",
              "      <td>35</td>\n",
              "      <td>461</td>\n",
              "      <td>NaN</td>\n",
              "      <td>NaN</td>\n",
              "      <td>NaN</td>\n",
              "      <td>NaN</td>\n",
              "      <td>NaN</td>\n",
              "      <td>NaN</td>\n",
              "      <td>NaN</td>\n",
              "    </tr>\n",
              "    <tr>\n",
              "      <th>Workclass</th>\n",
              "      <td>15318</td>\n",
              "      <td>8</td>\n",
              "      <td>Private</td>\n",
              "      <td>11210</td>\n",
              "      <td>NaN</td>\n",
              "      <td>NaN</td>\n",
              "      <td>NaN</td>\n",
              "      <td>NaN</td>\n",
              "      <td>NaN</td>\n",
              "      <td>NaN</td>\n",
              "      <td>NaN</td>\n",
              "    </tr>\n",
              "    <tr>\n",
              "      <th>fnlwgt</th>\n",
              "      <td>16281</td>\n",
              "      <td>NaN</td>\n",
              "      <td>NaN</td>\n",
              "      <td>NaN</td>\n",
              "      <td>189436</td>\n",
              "      <td>105715</td>\n",
              "      <td>13492</td>\n",
              "      <td>116736</td>\n",
              "      <td>177831</td>\n",
              "      <td>238384</td>\n",
              "      <td>1.4904e+06</td>\n",
              "    </tr>\n",
              "    <tr>\n",
              "      <th>Education</th>\n",
              "      <td>16281</td>\n",
              "      <td>16</td>\n",
              "      <td>HS-grad</td>\n",
              "      <td>5283</td>\n",
              "      <td>NaN</td>\n",
              "      <td>NaN</td>\n",
              "      <td>NaN</td>\n",
              "      <td>NaN</td>\n",
              "      <td>NaN</td>\n",
              "      <td>NaN</td>\n",
              "      <td>NaN</td>\n",
              "    </tr>\n",
              "    <tr>\n",
              "      <th>Education_Num</th>\n",
              "      <td>16281</td>\n",
              "      <td>NaN</td>\n",
              "      <td>NaN</td>\n",
              "      <td>NaN</td>\n",
              "      <td>10.0729</td>\n",
              "      <td>2.56755</td>\n",
              "      <td>1</td>\n",
              "      <td>9</td>\n",
              "      <td>10</td>\n",
              "      <td>12</td>\n",
              "      <td>16</td>\n",
              "    </tr>\n",
              "    <tr>\n",
              "      <th>Martial_Status</th>\n",
              "      <td>16281</td>\n",
              "      <td>7</td>\n",
              "      <td>Married-civ-spouse</td>\n",
              "      <td>7403</td>\n",
              "      <td>NaN</td>\n",
              "      <td>NaN</td>\n",
              "      <td>NaN</td>\n",
              "      <td>NaN</td>\n",
              "      <td>NaN</td>\n",
              "      <td>NaN</td>\n",
              "      <td>NaN</td>\n",
              "    </tr>\n",
              "    <tr>\n",
              "      <th>Occupation</th>\n",
              "      <td>15315</td>\n",
              "      <td>14</td>\n",
              "      <td>Prof-specialty</td>\n",
              "      <td>2032</td>\n",
              "      <td>NaN</td>\n",
              "      <td>NaN</td>\n",
              "      <td>NaN</td>\n",
              "      <td>NaN</td>\n",
              "      <td>NaN</td>\n",
              "      <td>NaN</td>\n",
              "      <td>NaN</td>\n",
              "    </tr>\n",
              "    <tr>\n",
              "      <th>Relationship</th>\n",
              "      <td>16281</td>\n",
              "      <td>6</td>\n",
              "      <td>Husband</td>\n",
              "      <td>6523</td>\n",
              "      <td>NaN</td>\n",
              "      <td>NaN</td>\n",
              "      <td>NaN</td>\n",
              "      <td>NaN</td>\n",
              "      <td>NaN</td>\n",
              "      <td>NaN</td>\n",
              "      <td>NaN</td>\n",
              "    </tr>\n",
              "    <tr>\n",
              "      <th>Race</th>\n",
              "      <td>16281</td>\n",
              "      <td>5</td>\n",
              "      <td>White</td>\n",
              "      <td>13946</td>\n",
              "      <td>NaN</td>\n",
              "      <td>NaN</td>\n",
              "      <td>NaN</td>\n",
              "      <td>NaN</td>\n",
              "      <td>NaN</td>\n",
              "      <td>NaN</td>\n",
              "      <td>NaN</td>\n",
              "    </tr>\n",
              "    <tr>\n",
              "      <th>Sex</th>\n",
              "      <td>16281</td>\n",
              "      <td>2</td>\n",
              "      <td>Male</td>\n",
              "      <td>10860</td>\n",
              "      <td>NaN</td>\n",
              "      <td>NaN</td>\n",
              "      <td>NaN</td>\n",
              "      <td>NaN</td>\n",
              "      <td>NaN</td>\n",
              "      <td>NaN</td>\n",
              "      <td>NaN</td>\n",
              "    </tr>\n",
              "    <tr>\n",
              "      <th>Capital_Gain</th>\n",
              "      <td>16281</td>\n",
              "      <td>NaN</td>\n",
              "      <td>NaN</td>\n",
              "      <td>NaN</td>\n",
              "      <td>1081.91</td>\n",
              "      <td>7583.94</td>\n",
              "      <td>0</td>\n",
              "      <td>0</td>\n",
              "      <td>0</td>\n",
              "      <td>0</td>\n",
              "      <td>99999</td>\n",
              "    </tr>\n",
              "    <tr>\n",
              "      <th>Capital_Loss</th>\n",
              "      <td>16281</td>\n",
              "      <td>NaN</td>\n",
              "      <td>NaN</td>\n",
              "      <td>NaN</td>\n",
              "      <td>87.8993</td>\n",
              "      <td>403.105</td>\n",
              "      <td>0</td>\n",
              "      <td>0</td>\n",
              "      <td>0</td>\n",
              "      <td>0</td>\n",
              "      <td>3770</td>\n",
              "    </tr>\n",
              "    <tr>\n",
              "      <th>Hours_per_week</th>\n",
              "      <td>16281</td>\n",
              "      <td>NaN</td>\n",
              "      <td>NaN</td>\n",
              "      <td>NaN</td>\n",
              "      <td>40.3922</td>\n",
              "      <td>12.4793</td>\n",
              "      <td>1</td>\n",
              "      <td>40</td>\n",
              "      <td>40</td>\n",
              "      <td>45</td>\n",
              "      <td>99</td>\n",
              "    </tr>\n",
              "    <tr>\n",
              "      <th>Country</th>\n",
              "      <td>16007</td>\n",
              "      <td>40</td>\n",
              "      <td>United-States</td>\n",
              "      <td>14662</td>\n",
              "      <td>NaN</td>\n",
              "      <td>NaN</td>\n",
              "      <td>NaN</td>\n",
              "      <td>NaN</td>\n",
              "      <td>NaN</td>\n",
              "      <td>NaN</td>\n",
              "      <td>NaN</td>\n",
              "    </tr>\n",
              "    <tr>\n",
              "      <th>Target</th>\n",
              "      <td>16281</td>\n",
              "      <td>2</td>\n",
              "      <td>0</td>\n",
              "      <td>12435</td>\n",
              "      <td>NaN</td>\n",
              "      <td>NaN</td>\n",
              "      <td>NaN</td>\n",
              "      <td>NaN</td>\n",
              "      <td>NaN</td>\n",
              "      <td>NaN</td>\n",
              "      <td>NaN</td>\n",
              "    </tr>\n",
              "  </tbody>\n",
              "</table>\n",
              "</div>"
            ],
            "text/plain": [
              "                count unique                  top  ...     50%     75%         max\n",
              "Age             16281     73                   35  ...     NaN     NaN         NaN\n",
              "Workclass       15318      8              Private  ...     NaN     NaN         NaN\n",
              "fnlwgt          16281    NaN                  NaN  ...  177831  238384  1.4904e+06\n",
              "Education       16281     16              HS-grad  ...     NaN     NaN         NaN\n",
              "Education_Num   16281    NaN                  NaN  ...      10      12          16\n",
              "Martial_Status  16281      7   Married-civ-spouse  ...     NaN     NaN         NaN\n",
              "Occupation      15315     14       Prof-specialty  ...     NaN     NaN         NaN\n",
              "Relationship    16281      6              Husband  ...     NaN     NaN         NaN\n",
              "Race            16281      5                White  ...     NaN     NaN         NaN\n",
              "Sex             16281      2                 Male  ...     NaN     NaN         NaN\n",
              "Capital_Gain    16281    NaN                  NaN  ...       0       0       99999\n",
              "Capital_Loss    16281    NaN                  NaN  ...       0       0        3770\n",
              "Hours_per_week  16281    NaN                  NaN  ...      40      45          99\n",
              "Country         16007     40        United-States  ...     NaN     NaN         NaN\n",
              "Target          16281      2                    0  ...     NaN     NaN         NaN\n",
              "\n",
              "[15 rows x 11 columns]"
            ]
          },
          "metadata": {
            "tags": []
          },
          "execution_count": 6
        }
      ]
    },
    {
      "cell_type": "code",
      "metadata": {
        "id": "KPRjUl_qbioO",
        "colab_type": "code",
        "colab": {
          "base_uri": "https://localhost:8080/",
          "height": 69
        },
        "outputId": "321b2265-c716-43cb-bcf6-f4ee25f36617"
      },
      "source": [
        "data_train['Target'].value_counts()"
      ],
      "execution_count": 61,
      "outputs": [
        {
          "output_type": "execute_result",
          "data": {
            "text/plain": [
              "0    24720\n",
              "1     7841\n",
              "Name: Target, dtype: int64"
            ]
          },
          "metadata": {
            "tags": []
          },
          "execution_count": 61
        }
      ]
    },
    {
      "cell_type": "code",
      "metadata": {
        "id": "9ZnQq62IboU1",
        "colab_type": "code",
        "colab": {
          "base_uri": "https://localhost:8080/",
          "height": 1000
        },
        "outputId": "9d79ec73-28d3-42e0-d4a2-5699464b1dec"
      },
      "source": [
        "fig = plt.figure(figsize=(25, 15))\n",
        "cols = 5\n",
        "rows = np.ceil(float(data_train.shape[1]) / cols)\n",
        "for i, column in enumerate(data_train.columns):\n",
        "    ax = fig.add_subplot(rows, cols, i + 1)\n",
        "    ax.set_title(column)\n",
        "    if data_train.dtypes[column] == np.object:\n",
        "        data_train[column].value_counts().plot(kind=\"bar\", axes=ax)\n",
        "    else:\n",
        "        data_train[column].hist(axes=ax)\n",
        "        plt.xticks(rotation=\"vertical\")\n",
        "plt.subplots_adjust(hspace=0.7, wspace=0.2)"
      ],
      "execution_count": 10,
      "outputs": [
        {
          "output_type": "display_data",
          "data": {
            "image/png": "[encoded data removed]",
            "text/plain": [
              "<Figure size 1800x1080 with 15 Axes>"
            ]
          },
          "metadata": {
            "tags": []
          }
        }
      ]
    },
    {
      "cell_type": "code",
      "metadata": {
        "id": "qblyR0H-brbo",
        "colab_type": "code",
        "colab": {
          "base_uri": "https://localhost:8080/",
          "height": 300
        },
        "outputId": "97969f83-015e-4e77-98be-7df5659884b8"
      },
      "source": [
        "#Checking Data types\n",
        "data_train.dtypes"
      ],
      "execution_count": 11,
      "outputs": [
        {
          "output_type": "execute_result",
          "data": {
            "text/plain": [
              "Age                int64\n",
              "Workclass         object\n",
              "fnlwgt             int64\n",
              "Education         object\n",
              "Education_Num      int64\n",
              "Martial_Status    object\n",
              "Occupation        object\n",
              "Relationship      object\n",
              "Race              object\n",
              "Sex               object\n",
              "Capital_Gain       int64\n",
              "Capital_Loss       int64\n",
              "Hours_per_week     int64\n",
              "Country           object\n",
              "Target            object\n",
              "dtype: object"
            ]
          },
          "metadata": {
            "tags": []
          },
          "execution_count": 11
        }
      ]
    },
    {
      "cell_type": "code",
      "metadata": {
        "id": "ycEZLSurb2tA",
        "colab_type": "code",
        "colab": {
          "base_uri": "https://localhost:8080/",
          "height": 300
        },
        "outputId": "939a1387-34d4-44ef-d971-d9a3b9d4eed9"
      },
      "source": [
        "data_test.dtypes"
      ],
      "execution_count": 12,
      "outputs": [
        {
          "output_type": "execute_result",
          "data": {
            "text/plain": [
              "Age                object\n",
              "Workclass          object\n",
              "fnlwgt            float64\n",
              "Education          object\n",
              "Education_Num     float64\n",
              "Martial_Status     object\n",
              "Occupation         object\n",
              "Relationship       object\n",
              "Race               object\n",
              "Sex                object\n",
              "Capital_Gain      float64\n",
              "Capital_Loss      float64\n",
              "Hours_per_week    float64\n",
              "Country            object\n",
              "Target             object\n",
              "dtype: object"
            ]
          },
          "metadata": {
            "tags": []
          },
          "execution_count": 12
        }
      ]
    },
    {
      "cell_type": "code",
      "metadata": {
        "id": "i_hPDm7bb4Kl",
        "colab_type": "code",
        "colab": {}
      },
      "source": [
        "# We want these to be int(s)\n",
        "data_test['Age'] = data_test['Age'].astype(int)\n",
        "data_test['fnlwgt'] = data_test['fnlwgt'].astype(int)\n",
        "data_test['Education_Num'] = data_test['Education_Num'].astype(int)\n",
        "data_test['Capital_Gain'] = data_test['Capital_Gain'].astype(int)\n",
        "data_test['Capital_Loss'] = data_test['Capital_Loss'].astype(int)\n",
        "data_test['Hours_per_week'] = data_test['Hours_per_week'].astype(int)"
      ],
      "execution_count": 0,
      "outputs": []
    },
    {
      "cell_type": "code",
      "metadata": {
        "id": "j6l7cr1KcOGF",
        "colab_type": "code",
        "colab": {
          "base_uri": "https://localhost:8080/",
          "height": 52
        },
        "outputId": "d85ade30-fe5c-4f86-84e5-7b64b96f7953"
      },
      "source": [
        "# Seperate Numerical data and Categorical Data\n",
        "categorical_columns = [c for c in data_train.columns \n",
        "                       if data_train[c].dtype.name == 'object']\n",
        "numerical_columns = [c for c in data_train.columns \n",
        "                     if data_train[c].dtype.name != 'object']\n",
        "\n",
        "print('categorical_columns:', categorical_columns)\n",
        "print('numerical_columns:', numerical_columns)"
      ],
      "execution_count": 14,
      "outputs": [
        {
          "output_type": "stream",
          "text": [
            "categorical_columns: ['Workclass', 'Education', 'Martial_Status', 'Occupation', 'Relationship', 'Race', 'Sex', 'Country', 'Target']\n",
            "numerical_columns: ['Age', 'fnlwgt', 'Education_Num', 'Capital_Gain', 'Capital_Loss', 'Hours_per_week']\n"
          ],
          "name": "stdout"
        }
      ]
    },
    {
      "cell_type": "code",
      "metadata": {
        "id": "1pdrjMSrcYVT",
        "colab_type": "code",
        "colab": {
          "base_uri": "https://localhost:8080/",
          "height": 406
        },
        "outputId": "b41ceb78-b2a6-4490-f5c1-8dc9b767d2c8"
      },
      "source": [
        "data_train.info()"
      ],
      "execution_count": 15,
      "outputs": [
        {
          "output_type": "stream",
          "text": [
            "<class 'pandas.core.frame.DataFrame'>\n",
            "RangeIndex: 32561 entries, 0 to 32560\n",
            "Data columns (total 15 columns):\n",
            " #   Column          Non-Null Count  Dtype \n",
            "---  ------          --------------  ----- \n",
            " 0   Age             32561 non-null  int64 \n",
            " 1   Workclass       30725 non-null  object\n",
            " 2   fnlwgt          32561 non-null  int64 \n",
            " 3   Education       32561 non-null  object\n",
            " 4   Education_Num   32561 non-null  int64 \n",
            " 5   Martial_Status  32561 non-null  object\n",
            " 6   Occupation      30718 non-null  object\n",
            " 7   Relationship    32561 non-null  object\n",
            " 8   Race            32561 non-null  object\n",
            " 9   Sex             32561 non-null  object\n",
            " 10  Capital_Gain    32561 non-null  int64 \n",
            " 11  Capital_Loss    32561 non-null  int64 \n",
            " 12  Hours_per_week  32561 non-null  int64 \n",
            " 13  Country         31978 non-null  object\n",
            " 14  Target          32561 non-null  object\n",
            "dtypes: int64(6), object(9)\n",
            "memory usage: 3.7+ MB\n"
          ],
          "name": "stdout"
        }
      ]
    },
    {
      "cell_type": "code",
      "metadata": {
        "id": "737N6aPAceZu",
        "colab_type": "code",
        "colab": {
          "base_uri": "https://localhost:8080/",
          "height": 406
        },
        "outputId": "234815f5-b0a9-4c20-ee17-08ad051d12cb"
      },
      "source": [
        "# Resolving missing data\n",
        "for c in categorical_columns:\n",
        "    data_train[c].fillna(data_train[c].mode()[0], inplace=True)\n",
        "    data_test[c].fillna(data_train[c].mode()[0], inplace=True)\n",
        "    \n",
        "for c in numerical_columns:\n",
        "    data_train[c].fillna(data_train[c].median(), inplace=True)\n",
        "    data_test[c].fillna(data_train[c].median(), inplace=True)\n",
        "\n",
        "data_train.info()"
      ],
      "execution_count": 16,
      "outputs": [
        {
          "output_type": "stream",
          "text": [
            "<class 'pandas.core.frame.DataFrame'>\n",
            "RangeIndex: 32561 entries, 0 to 32560\n",
            "Data columns (total 15 columns):\n",
            " #   Column          Non-Null Count  Dtype \n",
            "---  ------          --------------  ----- \n",
            " 0   Age             32561 non-null  int64 \n",
            " 1   Workclass       32561 non-null  object\n",
            " 2   fnlwgt          32561 non-null  int64 \n",
            " 3   Education       32561 non-null  object\n",
            " 4   Education_Num   32561 non-null  int64 \n",
            " 5   Martial_Status  32561 non-null  object\n",
            " 6   Occupation      32561 non-null  object\n",
            " 7   Relationship    32561 non-null  object\n",
            " 8   Race            32561 non-null  object\n",
            " 9   Sex             32561 non-null  object\n",
            " 10  Capital_Gain    32561 non-null  int64 \n",
            " 11  Capital_Loss    32561 non-null  int64 \n",
            " 12  Hours_per_week  32561 non-null  int64 \n",
            " 13  Country         32561 non-null  object\n",
            " 14  Target          32561 non-null  int64 \n",
            "dtypes: int64(7), object(8)\n",
            "memory usage: 3.7+ MB\n"
          ],
          "name": "stdout"
        }
      ]
    },
    {
      "cell_type": "code",
      "metadata": {
        "id": "nSSOcnVDcxbd",
        "colab_type": "code",
        "colab": {}
      },
      "source": [
        "data_train = pd.concat([data_train[numerical_columns],\n",
        "    pd.get_dummies(data_train[categorical_columns])], axis=1)\n",
        "\n",
        "data_test = pd.concat([data_test[numerical_columns],\n",
        "    pd.get_dummies(data_test[categorical_columns])], axis=1)"
      ],
      "execution_count": 0,
      "outputs": []
    },
    {
      "cell_type": "code",
      "metadata": {
        "id": "TB2Jr5bpc3Ge",
        "colab_type": "code",
        "colab": {
          "base_uri": "https://localhost:8080/",
          "height": 52
        },
        "outputId": "c58b8192-9606-43fa-e436-201ebc2f6835"
      },
      "source": [
        "print(set(data_train.columns) - set(data_test.columns) )\n",
        "data_train.shape, data_test.shape"
      ],
      "execution_count": 18,
      "outputs": [
        {
          "output_type": "stream",
          "text": [
            "{'Country_ Holand-Netherlands'}\n"
          ],
          "name": "stdout"
        },
        {
          "output_type": "execute_result",
          "data": {
            "text/plain": [
              "((32561, 106), (16281, 105))"
            ]
          },
          "metadata": {
            "tags": []
          },
          "execution_count": 18
        }
      ]
    },
    {
      "cell_type": "code",
      "metadata": {
        "id": "mu2pheOVc7lJ",
        "colab_type": "code",
        "colab": {}
      },
      "source": [
        "data_test['Country_ Holand-Netherlands'] = 0\n",
        "set(data_train.columns) - set(data_test.columns)\n",
        "X_train = data_train.drop(['Target'], axis=1)\n",
        "y_train = data_train['Target']\n",
        "\n",
        "X_test = data_test.drop(['Target'], axis=1)\n",
        "y_test = data_test['Target']"
      ],
      "execution_count": 0,
      "outputs": []
    },
    {
      "cell_type": "markdown",
      "metadata": {
        "id": "VjyXcfwOdmW9",
        "colab_type": "text"
      },
      "source": [
        "# K-Nearest Neighbor"
      ]
    },
    {
      "cell_type": "code",
      "metadata": {
        "id": "x1GYfv08dh4q",
        "colab_type": "code",
        "colab": {
          "base_uri": "https://localhost:8080/",
          "height": 87
        },
        "outputId": "18edfa2f-bed6-48ac-9fc6-7d255d1a90be"
      },
      "source": [
        "\n",
        "from sklearn.pipeline import Pipeline\n",
        "knn_pipe = Pipeline([('scaler', StandardScaler()), ('knn', KNeighborsClassifier(n_jobs=-1))])\n",
        "knn_params = {'knn__n_neighbors': range(1, 10)}\n",
        "knn_grid = GridSearchCV(knn_pipe, knn_params,\n",
        "                        cv=5, n_jobs=-1, verbose=True)\n",
        "\n",
        "knn_grid.fit(X_train, y_train)\n",
        "knn_grid.best_params_, knn_grid.best_score_"
      ],
      "execution_count": 56,
      "outputs": [
        {
          "output_type": "stream",
          "text": [
            "Fitting 5 folds for each of 9 candidates, totalling 45 fits\n"
          ],
          "name": "stdout"
        },
        {
          "output_type": "stream",
          "text": [
            "[Parallel(n_jobs=-1)]: Using backend LokyBackend with 2 concurrent workers.\n",
            "[Parallel(n_jobs=-1)]: Done  45 out of  45 | elapsed: 18.1min finished\n"
          ],
          "name": "stderr"
        },
        {
          "output_type": "execute_result",
          "data": {
            "text/plain": [
              "({'knn__n_neighbors': 8}, 0.8275546006833432)"
            ]
          },
          "metadata": {
            "tags": []
          },
          "execution_count": 56
        }
      ]
    },
    {
      "cell_type": "code",
      "metadata": {
        "id": "wWmyCVaVf0cp",
        "colab_type": "code",
        "colab": {
          "base_uri": "https://localhost:8080/",
          "height": 34
        },
        "outputId": "35e3d4d0-17f6-4504-f5bf-1af0cf0d4465"
      },
      "source": [
        "knn_pred = knn_grid.predict(X_test)\n",
        "print(f\"KNN accuracy score: {accuracy_score(y_test, knn_pred)*100}%\")"
      ],
      "execution_count": 66,
      "outputs": [
        {
          "output_type": "stream",
          "text": [
            "KNN accuracy score: 76.4756464590627%\n"
          ],
          "name": "stdout"
        }
      ]
    },
    {
      "cell_type": "markdown",
      "metadata": {
        "id": "k4vJCUhsg3X2",
        "colab_type": "text"
      },
      "source": [
        "# Decision Tree"
      ]
    },
    {
      "cell_type": "code",
      "metadata": {
        "id": "jhu5NJ5xhS4I",
        "colab_type": "code",
        "colab": {}
      },
      "source": [
        "# Save Decision Tree Diagram to a png \n",
        "from sklearn.tree import export_graphviz\n",
        "\n",
        "def tree_graph_to_png(tree, feature_names, png_file_to_save, class_name):\n",
        "    tree_str = export_graphviz(tree, feature_names=feature_names, \n",
        "                                     filled=True, out_file=None , class_names = class_name)\n",
        "    graph = pydotplus.graph_from_dot_data(tree_str)  \n",
        "    graph.write_png(png_file_to_save)"
      ],
      "execution_count": 0,
      "outputs": []
    },
    {
      "cell_type": "code",
      "metadata": {
        "id": "NRcoQviEduHA",
        "colab_type": "code",
        "colab": {
          "base_uri": "https://localhost:8080/",
          "height": 87
        },
        "outputId": "46f6913d-1129-4a3e-b49f-4d8a62a4a261"
      },
      "source": [
        "# 5-Fold Cross Validation\n",
        "tree_params = {'max_depth': range(2,11)}\n",
        "tree = GridSearchCV(DecisionTreeClassifier(random_state=17), tree_params, verbose = True , n_jobs = -1 , cv  = 5)                    \n",
        "tree.fit(X_train, y_train);\n",
        "tree.best_params_, tree.best_score_"
      ],
      "execution_count": 58,
      "outputs": [
        {
          "output_type": "stream",
          "text": [
            "Fitting 5 folds for each of 9 candidates, totalling 45 fits\n"
          ],
          "name": "stdout"
        },
        {
          "output_type": "stream",
          "text": [
            "[Parallel(n_jobs=-1)]: Using backend LokyBackend with 2 concurrent workers.\n",
            "[Parallel(n_jobs=-1)]: Done  45 out of  45 | elapsed:    6.9s finished\n"
          ],
          "name": "stderr"
        },
        {
          "output_type": "execute_result",
          "data": {
            "text/plain": [
              "({'max_depth': 9}, 0.8565770273854106)"
            ]
          },
          "metadata": {
            "tags": []
          },
          "execution_count": 58
        }
      ]
    },
    {
      "cell_type": "code",
      "metadata": {
        "id": "TJbhG5EseOk0",
        "colab_type": "code",
        "colab": {}
      },
      "source": [
        "# Train tuned tree w/ best parameters\n",
        "tuned_tree = DecisionTreeClassifier( max_depth= 9 , random_state= 17)\n",
        "tuned_tree.fit(X_train, y_train)\n",
        "class_name = [\"<=50K\", \">50K\"]\n",
        "tree_graph_to_png(tuned_tree, X_train.columns, 'tree', class_name)"
      ],
      "execution_count": 0,
      "outputs": []
    },
    {
      "cell_type": "markdown",
      "metadata": {
        "id": "DIb3FmSMwcAH",
        "colab_type": "text"
      },
      "source": [
        "<img src = '/content/tree'>"
      ]
    },
    {
      "cell_type": "code",
      "metadata": {
        "id": "aW92dM3ViC6W",
        "colab_type": "code",
        "colab": {
          "base_uri": "https://localhost:8080/",
          "height": 34
        },
        "outputId": "8a262f03-a6e6-4d62-d8aa-384035a9e51f"
      },
      "source": [
        "tree_predictions = tuned_tree.predict(X_test)\n",
        "print(f\"Decision tree accuracy: {accuracy_score(y_test, tree_predictions)*100}%\")"
      ],
      "execution_count": 60,
      "outputs": [
        {
          "output_type": "stream",
          "text": [
            "Decision tree accuracy: 84.77980468030219%\n"
          ],
          "name": "stdout"
        }
      ]
    },
    {
      "cell_type": "markdown",
      "metadata": {
        "id": "RkyJpIjojryM",
        "colab_type": "text"
      },
      "source": [
        "# Random Forest"
      ]
    },
    {
      "cell_type": "code",
      "metadata": {
        "id": "ljdPlZxujuTg",
        "colab_type": "code",
        "colab": {
          "base_uri": "https://localhost:8080/",
          "height": 87
        },
        "outputId": "ac6bc058-85e1-4748-c2e8-1db3a8776b87"
      },
      "source": [
        "forest_params = {'max_depth': range(10, 16),\n",
        "                 'max_features': range(5, 105, 20)}\n",
        "\n",
        "locally_best_forest = GridSearchCV(\n",
        "    RandomForestClassifier(n_estimators=10, random_state=17,\n",
        "                           n_jobs=-1),\n",
        "    forest_params, cv=3, verbose=1)\n",
        "\n",
        "locally_best_forest.fit(X_train, y_train)\n",
        "locally_best_forest.best_params_,locally_best_forest.best_score_"
      ],
      "execution_count": 62,
      "outputs": [
        {
          "output_type": "stream",
          "text": [
            "Fitting 3 folds for each of 30 candidates, totalling 90 fits\n"
          ],
          "name": "stdout"
        },
        {
          "output_type": "stream",
          "text": [
            "[Parallel(n_jobs=1)]: Using backend SequentialBackend with 1 concurrent workers.\n",
            "[Parallel(n_jobs=1)]: Done  90 out of  90 | elapsed:   58.0s finished\n"
          ],
          "name": "stderr"
        },
        {
          "output_type": "execute_result",
          "data": {
            "text/plain": [
              "({'max_depth': 14, 'max_features': 45}, 0.8619822161458556)"
            ]
          },
          "metadata": {
            "tags": []
          },
          "execution_count": 62
        }
      ]
    },
    {
      "cell_type": "code",
      "metadata": {
        "id": "KxUit_YikX5_",
        "colab_type": "code",
        "colab": {
          "base_uri": "https://localhost:8080/",
          "height": 34
        },
        "outputId": "ece7fb30-f32f-4e45-bc16-4d2691d43f09"
      },
      "source": [
        "tuned_rf = RandomForestClassifier(n_estimators = 10 , max_depth  =13 , max_features = 85 , random_state = 17)\n",
        "tuned_rf.fit(X_train , y_train)\n",
        "tuned_forest_pred= tuned_rf.predict(X_test)\n",
        "print (f\"Random Forest accuracy: {accuracy_score(y_test , tuned_forest_pred)*100}%\")"
      ],
      "execution_count": 70,
      "outputs": [
        {
          "output_type": "stream",
          "text": [
            "Random Forest accuracy: 86.20477857625453%\n"
          ],
          "name": "stdout"
        }
      ]
    },
    {
      "cell_type": "markdown",
      "metadata": {
        "id": "mnqEH2hex5i8",
        "colab_type": "text"
      },
      "source": [
        "# Neural Network "
      ]
    },
    {
      "cell_type": "code",
      "metadata": {
        "id": "pDMw6hffxNEQ",
        "colab_type": "code",
        "colab": {
          "base_uri": "https://localhost:8080/",
          "height": 66
        },
        "outputId": "e5de0ee0-232d-44ec-ea85-6261dc898e19"
      },
      "source": [
        "current_time = utc_timezone.localize(datetime.now()).astimezone(pacific_timezone).strftime(\"%H:%M:%S\")\n",
        "run = wandb.init(project=\"uci_adult\", group=\"Ryan\", name=\"Ryan - \"+current_time)\n",
        "y_trainNN = np_utils.to_categorical(y_train)\n",
        "y_testNN = np_utils.to_categorical(y_test)\n",
        "\n"
      ],
      "execution_count": 154,
      "outputs": [
        {
          "output_type": "display_data",
          "data": {
            "text/html": [
              "\n",
              "                Logging results to <a href=\"https://wandb.com\" target=\"_blank\">Weights & Biases</a> <a href=\"https://docs.wandb.com/integrations/jupyter.html\" target=\"_blank\">(Documentation)</a>.<br/>\n",
              "                Project page: <a href=\"https://app.wandb.ai/nauqgnesh/uci_adult\" target=\"_blank\">https://app.wandb.ai/nauqgnesh/uci_adult</a><br/>\n",
              "                Run page: <a href=\"https://app.wandb.ai/nauqgnesh/uci_adult/runs/29r0kqg9\" target=\"_blank\">https://app.wandb.ai/nauqgnesh/uci_adult/runs/29r0kqg9</a><br/>\n",
              "            "
            ],
            "text/plain": [
              "<IPython.core.display.HTML object>"
            ]
          },
          "metadata": {
            "tags": []
          }
        }
      ]
    },
    {
      "cell_type": "code",
      "metadata": {
        "id": "oihcnTWwz0r3",
        "colab_type": "code",
        "colab": {}
      },
      "source": [
        "def create_model():\n",
        "  model = Sequential()\n",
        "  model.add(Dense(12, activation='sigmoid', input_dim=105))\n",
        "  model.add(Dense(2, activation='sigmoid', input_dim=12))\n",
        "  model.add(Dense(num_classes, activation=\"softmax\"))     # Output layer\n",
        "  model.compile(loss='binary_crossentropy', optimizer='rmsprop', metrics=['accuracy'])\n",
        "  #Save model to W&B\n",
        "  model.save(os.path.join(wandb.run.dir, \"model.h5\"))\n",
        "  return model"
      ],
      "execution_count": 0,
      "outputs": []
    },
    {
      "cell_type": "code",
      "metadata": {
        "id": "irrGU21c1WNx",
        "colab_type": "code",
        "colab": {
          "base_uri": "https://localhost:8080/",
          "height": 547
        },
        "outputId": "9a7d2f0e-64ca-4110-c4a5-b8a8c387b768"
      },
      "source": [
        "model = create_model()\n",
        "model.fit(X_train, y_trainNN, validation_data=(X_test, y_testNN), epochs=8,verbose=True)\n",
        "model.summary()\n",
        "\n",
        "#  callbacks=[WandbCallback()],"
      ],
      "execution_count": 157,
      "outputs": [
        {
          "output_type": "stream",
          "text": [
            "Epoch 1/8\n",
            "1018/1018 [==============================] - 2s 2ms/step - loss: 0.5585 - accuracy: 0.7592 - val_loss: 0.5465 - val_accuracy: 0.7638\n",
            "Epoch 2/8\n",
            "1018/1018 [==============================] - 2s 2ms/step - loss: 0.5519 - accuracy: 0.7592 - val_loss: 0.5463 - val_accuracy: 0.7638\n",
            "Epoch 3/8\n",
            "1018/1018 [==============================] - 2s 2ms/step - loss: 0.5518 - accuracy: 0.7592 - val_loss: 0.5462 - val_accuracy: 0.7638\n",
            "Epoch 4/8\n",
            "1018/1018 [==============================] - 2s 2ms/step - loss: 0.5518 - accuracy: 0.7592 - val_loss: 0.5467 - val_accuracy: 0.7638\n",
            "Epoch 5/8\n",
            "1018/1018 [==============================] - 2s 2ms/step - loss: 0.5517 - accuracy: 0.7592 - val_loss: 0.5461 - val_accuracy: 0.7638\n",
            "Epoch 6/8\n",
            "1018/1018 [==============================] - 2s 2ms/step - loss: 0.5516 - accuracy: 0.7592 - val_loss: 0.5460 - val_accuracy: 0.7638\n",
            "Epoch 7/8\n",
            "1018/1018 [==============================] - 2s 2ms/step - loss: 0.5514 - accuracy: 0.7592 - val_loss: 0.5459 - val_accuracy: 0.7638\n",
            "Epoch 8/8\n",
            "1018/1018 [==============================] - 2s 2ms/step - loss: 0.5513 - accuracy: 0.7592 - val_loss: 0.5461 - val_accuracy: 0.7638\n",
            "Model: \"sequential_39\"\n",
            "_________________________________________________________________\n",
            "Layer (type)                 Output Shape              Param #   \n",
            "=================================================================\n",
            "dense_106 (Dense)            (None, 12)                1272      \n",
            "_________________________________________________________________\n",
            "dense_107 (Dense)            (None, 2)                 26        \n",
            "_________________________________________________________________\n",
            "dense_108 (Dense)            (None, 2)                 6         \n",
            "=================================================================\n",
            "Total params: 1,304\n",
            "Trainable params: 1,304\n",
            "Non-trainable params: 0\n",
            "_________________________________________________________________\n"
          ],
          "name": "stdout"
        }
      ]
    },
    {
      "cell_type": "code",
      "metadata": {
        "id": "NkRgjpbF8pZb",
        "colab_type": "code",
        "colab": {
          "base_uri": "https://localhost:8080/",
          "height": 69
        },
        "outputId": "b2a59c74-0408-4079-93c6-b22b5c897a00"
      },
      "source": [
        "score = model.evaluate(X_test, y_test, verbose=1)\n",
        "\n",
        "print(\"Keras evaluation result:\", round(score[0],2))\n",
        "print(f\"Percentage right: {round(score[1]*100 , 2)}%.\")"
      ],
      "execution_count": 158,
      "outputs": [
        {
          "output_type": "stream",
          "text": [
            "509/509 [==============================] - 1s 1ms/step - loss: 0.8736 - accuracy: 1.0000\n",
            "Keras evaluation result: 0.87\n",
            "Percentage right: 100.0%.\n"
          ],
          "name": "stdout"
        }
      ]
    }
  ]
}